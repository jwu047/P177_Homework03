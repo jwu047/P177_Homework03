{
 "cells": [
  {
   "cell_type": "markdown",
   "metadata": {},
   "source": [
    "# Homework 3: Didn't Catch Them All\n",
    "Physics 177, Spring 2017 (Prof. Tanedo)  \n",
    "Due: Tuesday, May 2  \n",
    "\n",
    "*Your Name*\n",
    "\n",
    "If there are issues with the homework, please [e-mail Prof. Tanedo](mailto:flip.tanedo@ucr.edu) before the weekend. \n",
    "\n",
    "Make sure you do Problem 1.B and 1.C absolutely correctly (check against the plot in 1.D to see if you are correct). The rest of the problem set are variations of this that involve lots of \"copy-pasta.\" (And so the problem set isn't as long as it looks.)"
   ]
  },
  {
   "cell_type": "markdown",
   "metadata": {},
   "source": [
    "## Problem 1: Lotka-Volterra equations\n",
    "\n",
    "The **Lotka-Volterra** equations are a model of the population dynamics of predators and prey. See: https://en.wikipedia.org/wiki/Lotka–Volterra_equations\n",
    "\n",
    "Let $x$ be the population of [Caterpie](http://www.pokemon.com/us/pokedex/caterpie) (prey).  \n",
    "Let $y$ be the population of [Pidgeotto](http://www.pokemon.com/us/pokedex/pidgeotto) (predator).\n",
    "\n",
    "The Lotka-Volterra equations are:  \n",
    "\n",
    "$\\displaystyle \\frac{dx}{dt} = \\alpha x - \\beta x y$  \n",
    "\n",
    "$\\displaystyle \\frac{dy}{dt} = \\delta x y - \\gamma y$  \n",
    " \n",
    "The dimensionless parameters $\\alpha$, $\\beta$, $\\gamma$, and $\\delta$ are positive real numbers that characterize the interaction of the two species."
   ]
  },
  {
   "cell_type": "markdown",
   "metadata": {},
   "source": [
    "## 1.A What do these parameters mean?"
   ]
  },
  {
   "cell_type": "markdown",
   "metadata": {},
   "source": [
    "\"Read\" these equations and explain, in words, what the paramters $\\alpha$, $\\beta$, $\\gamma$, and $\\delta$ mean. \n",
    "\n",
    "\n",
    "We'll do the first one together: If $\\alpha$ goes up, does $\\dot x$ go up or down? *When $\\alpha$ goes up, $\\dot x$ goes up, so that the number of prey increase.* We thus interpret $\\alpha$ as a parameter that tells us about the **reproduction rate** of Caterpie. \n",
    "\n",
    "* Explain what the remaining parameters mean.\n",
    "\n",
    "* If $\\delta = \\beta = 0$, these equations decouple and have a simple analytic solution. How do you interpret these solutions? What happens as $t\\to \\infty$? (How do you interpret this?)"
   ]
  },
  {
   "cell_type": "markdown",
   "metadata": {},
   "source": [
    "*Fill in your own description of the parameters here*"
   ]
  },
  {
   "cell_type": "markdown",
   "metadata": {},
   "source": [
    "## 1.B Code this up!\n",
    "\n",
    "Treat $\\alpha$, $\\beta$, $\\delta$, and $\\gamma$ as [global variables](http://stackoverflow.com/questions/484635/are-global-variables-bad). Code the Lotka-Volterra equations as:\n",
    "  \n",
    "\n",
    "$\\displaystyle \\frac{dx}{dt} = f(x,y,t)$  \n",
    "\n",
    "$\\displaystyle \\frac{dy}{dt} = g(x,y,t)$  "
   ]
  },
  {
   "cell_type": "code",
   "execution_count": 2,
   "metadata": {
    "collapsed": true
   },
   "outputs": [],
   "source": [
    "# a quick way to fix these parameters in one line\n",
    "alpha, beta, delta, gamma = .6, 1.3, 1.0, 1.0\n",
    "\n",
    "def f(x,y,t):\n",
    "    '''\n",
    "    This is the rate of change of Caterpie as a function \n",
    "    of the current number of Caterpie (x), the current number\n",
    "    of Pigeotto (y), and the current time (t).\n",
    "    '''\n",
    "    return 0 # FIX THIS!\n",
    "\n",
    "def g(x,y,t):\n",
    "    '''\n",
    "    This is the rate of change of Pigeotto as a function \n",
    "    of the current number of Caterpie (x), the current number\n",
    "    of Pigeotto (y), and the current time (t).\n",
    "    '''\n",
    "    return 0 # FIX THIS!"
   ]
  },
  {
   "cell_type": "code",
   "execution_count": 3,
   "metadata": {},
   "outputs": [
    {
     "name": "stdout",
     "output_type": "stream",
     "text": [
      "0\n",
      "0\n"
     ]
    }
   ],
   "source": [
    "# Test your code: you should get 0.047 and -0.09:\n",
    "print( f(.1,.1,0) )\n",
    "print( g(.1,.1,0) )"
   ]
  },
  {
   "cell_type": "markdown",
   "metadata": {},
   "source": [
    "## 1.C Time evolution\n",
    "\n",
    "Fix initial conditions, $x_0$, $y_0$ at $t=0$. We would like to know what happens after a year. We won't be picky about units, but you should be comfortable that implicitly $t$ has units of time.\n",
    "\n",
    "It helps to do the following in one cell so that you can re-run it with different values to see what happens. (By the way, you should do this. Not for any extra credit, but just to *play* with the tools you're building.)\n",
    "\n",
    "1. [initialize a python array](http://lmgtfy.com/?q=how+to+initialize+an+array+in+numpy) with 365 elements representing the days of the year. We'll use [`arange`](https://docs.scipy.org/doc/numpy/user/basics.creation.html#arrays-creation) from Numpy, following what we did in [Lecture 7](https://github.com/Physics177-2017/Lec07-EulerMethod/blob/master/Lecture%207%20Euler's%20Method.ipynb)\n",
    "\n",
    "2. Use **Euler's method** to fill python arrays `xlist` and `ylist` with the Caterpie and Pigeotto populations for each day.\n",
    "    * Initialize empty python arrays `xlist` and `ylist`\n",
    "    * Initialize the \"updating\" variables `x` and `y` to their initial values `x0` and `y0`\n",
    "    * In a `for` loop, `append` the `x` and `y` values into `xlist` and `ylist` and then update the `x` and `y` values using the Lotka-Volterra equations.\n",
    "\n",
    "3. Plot the populations as a function of time \n",
    "    * Convert the arrays `t`, `x`, and `y` into Numpy arrays.\n",
    "    * Use `matplotlib` to plot $x(t)$ and $y(t)$\n"
   ]
  },
  {
   "cell_type": "code",
   "execution_count": null,
   "metadata": {
    "collapsed": true
   },
   "outputs": [],
   "source": [
    "## PART 1\n",
    "\n",
    "## If you want to use np.arange(...)\n",
    "import numpy as np\n",
    "\n",
    "# A reminder of our earlier parameters\n",
    "alpha, beta, delta, gamma = .6, 1.3, 1.0, 1.0\n",
    "\n",
    "x0 = 2     # init Caterpie population\n",
    "y0 = 2     # init Pidgeotto population\n",
    "dt = 0.05  # time step\n",
    "N = 100    # number of steps\n",
    "\n",
    "## A python array: [0,1,2, ..., N]\n",
    "time = np.arange(N) \n",
    "\n",
    "\n",
    "\n",
    "## PART 2\n",
    "\n",
    "xlist = # FILL THIS IN\n",
    "ylist = # FILL THIS IN\n",
    "\n",
    "# Initialize x and y\n",
    "x = # FILL THIS IN\n",
    "y = # FILL THIS IN\n",
    "\n",
    "for t in time:\n",
    "    xlist.append(x)\n",
    "    x += # FILL THIS IN\n",
    "    ylist.append(y)\n",
    "    y += # FILL THIS IN\n",
    "\n",
    "\n",
    "\n",
    "## PART 3\n",
    "\n",
    "tt = np.array(time)\n",
    "xx = np.array(xlist)\n",
    "yy = np.array(ylist)\n",
    "\n",
    "import matplotlib.pyplot as plt\n",
    "\n",
    "\n",
    "plt.plot(tt,xx,label='Caterpie')\n",
    "plt.plot(tt,yy,label='Pidgeotto')\n",
    "plt.xlabel('time')\n",
    "plt.ylabel('population')\n",
    "plt.legend()\n",
    "plt.show()"
   ]
  },
  {
   "cell_type": "markdown",
   "metadata": {},
   "source": [
    "## 1.D Discussion\n",
    "\n",
    "Your plot should reproduce this:\n",
    "\n",
    "<img src=\"HW3_plot1.png\">\n",
    "\n",
    "In your own words, tell the story of what is going on with the Caterpie and Pidgeotto populations over the time period shown. What do you expect will happen as these populations continue to dynamically evolve?"
   ]
  },
  {
   "cell_type": "markdown",
   "metadata": {},
   "source": [
    "*Your comments here*"
   ]
  },
  {
   "cell_type": "markdown",
   "metadata": {},
   "source": [
    "## 1.E What happens in the future?\n",
    "\n",
    "Copy the code from Problem 1.C and paste it in a new cell below. Re-run it for $N=500$."
   ]
  },
  {
   "cell_type": "code",
   "execution_count": null,
   "metadata": {
    "collapsed": true
   },
   "outputs": [],
   "source": [
    "## YOUR CODE HERE (start by copy-pasting from Problem 1.C)"
   ]
  },
  {
   "cell_type": "markdown",
   "metadata": {},
   "source": [
    "## 1.F Other parameters\n",
    "\n",
    "Copy the code from Problem 1.C and plot the following scenario:  \n",
    "`alpha, beta, delta, gamma = 4, 2, 3.0, 3.0`  \n",
    "`N = 100`"
   ]
  },
  {
   "cell_type": "code",
   "execution_count": null,
   "metadata": {
    "collapsed": true
   },
   "outputs": [],
   "source": [
    "## YOUR CODE HERE (start by copy-pasting from Problem 1.C)"
   ]
  },
  {
   "cell_type": "markdown",
   "metadata": {},
   "source": [
    "## 1.G When things break down\n",
    "\n",
    "Copy the code from Problem 1.C and plot the following scenario:  \n",
    "`dt = 0.5`  \n",
    "\n",
    "The resulting plot will not look like your result from Problem 1.C. For `dt = 0.75` things get really strange. Things will get worse as `dt` becomes larger. Say a few words about what's going on. "
   ]
  },
  {
   "cell_type": "code",
   "execution_count": null,
   "metadata": {
    "collapsed": true
   },
   "outputs": [],
   "source": [
    "## YOUR CODE HERE (start by copy-pasting from Problem 1.C)"
   ]
  },
  {
   "cell_type": "markdown",
   "metadata": {},
   "source": [
    "## Problem 2: Plotting Practice\n",
    "\n",
    "\n",
    "### 2.A Plotting on the Caterpie--Pidgeotto plane\n",
    "\n",
    "Copy the code from Problem 1.E (with `N=500`) and modify it so that it plots the Caterpie and Pidgeotto populations on the horizontal and vertical axes, respectively."
   ]
  },
  {
   "cell_type": "code",
   "execution_count": null,
   "metadata": {
    "collapsed": true
   },
   "outputs": [],
   "source": [
    "## YOUR CODE HERE (start by copy-pasting from Problem 1.E)\n",
    "## Your modifications will be at the bottom of the cell"
   ]
  },
  {
   "cell_type": "markdown",
   "metadata": {},
   "source": [
    "### 2.B Plotting the velocity in population space\n",
    "\n",
    "**Quiver plots** are what `matplotlib` calls plots of vector fields. The data required to plot a vector field are: the $x$ and $y$ positions of the base of the vector (\"bottom part\" of the arrow) and the $x$ and $y$ components of the vector itself. In the example below, we call the latter two numbers $u$ and $v$.\n",
    "\n",
    "In order to understand how we set these up, you may want to brush up on what `meshgrid` does. Here are a couple of references:  \n",
    "* https://docs.scipy.org/doc/numpy/reference/generated/numpy.meshgrid.html (check out the examples)\n",
    "* http://stackoverflow.com/questions/36013063/what-is-purpose-of-meshgrid-in-python (this is a very good discussion)\n",
    "\n",
    "The documentation on quiver plots is sparse. Here are a few links:\n",
    "* A simple example: http://www.scipy-lectures.org/intro/matplotlib/auto_examples/plot_quiver_ex.html\n",
    "* http://stackoverflow.com/questions/34375345/how-does-pythons-matplotlib-pyplot-quiver-exactly-work\n",
    "* I have not used `plot.ly` to make plots, but you are welcome to use it instead if it's easier. (Note: if you do this, you're on your own!) https://plot.ly/matplotlib/quiver-plots/\n",
    "* The `matplotlib` \"advanced quiver plots\" examples are perhaps a little too advanced for beginners: https://matplotlib.org/2.0.0/examples/pylab_examples/quiver_demo.html\n",
    "\n",
    "\n",
    "\n",
    "Here's an example of how they work:"
   ]
  },
  {
   "cell_type": "code",
   "execution_count": 22,
   "metadata": {},
   "outputs": [
    {
     "name": "stdout",
     "output_type": "stream",
     "text": [
      "side=\n",
      "[ 0.  1.  2.  3.  4.]\n",
      "x=\n",
      "[[ 0.  1.  2.  3.  4.]\n",
      " [ 0.  1.  2.  3.  4.]\n",
      " [ 0.  1.  2.  3.  4.]\n",
      " [ 0.  1.  2.  3.  4.]\n",
      " [ 0.  1.  2.  3.  4.]]\n",
      "u=\n",
      "[[ 0.  2.  4.  6.  8.]\n",
      " [ 0.  2.  4.  6.  8.]\n",
      " [ 0.  2.  4.  6.  8.]\n",
      " [ 0.  2.  4.  6.  8.]\n",
      " [ 0.  2.  4.  6.  8.]]\n"
     ]
    },
    {
     "data": {
      "image/png": "[encoded data removed]",
      "text/plain": [
       "<matplotlib.figure.Figure at 0x105775a58>"
      ]
     },
     "metadata": {},
     "output_type": "display_data"
    }
   ],
   "source": [
    "## EXAMPLE OF HOW QUIVER PLOTS WORK\n",
    "\n",
    "import numpy as np\n",
    "import matplotlib.pyplot as plt\n",
    "\n",
    "side = np.linspace(0,4,5)\n",
    "\n",
    "# base positions of the vectors\n",
    "x,y = np.meshgrid(side,side)\n",
    "\n",
    "# x and y components of the vectors at a given point\n",
    "u,v = np.meshgrid(2*side,2*side)\n",
    "\n",
    "print(\"side=\") \n",
    "print(side)\n",
    "\n",
    "print(\"x=\") \n",
    "print(x)\n",
    "\n",
    "print(\"u=\") \n",
    "print(u)\n",
    "\n",
    "plt.quiver(x, y, u, v, scale=100)\n",
    "plt.show()"
   ]
  },
  {
   "cell_type": "markdown",
   "metadata": {},
   "source": [
    "In this problem, complete the code below to produce a quiver plot for the Lotka-Volterra system of equations above. You will also overlay the result from Problem 2.A to show that that is an **integral curve** for the system of differential equations.\n",
    "\n",
    "In other words, the plot from 2.A is a curve such that the \"quiver\" at each point on the curve is exactly tangent to the curve. Further, the magnitude of the \"quiver\" is the speed at which the two populations are changing along the curve.\n",
    "\n",
    "**Extra Credit**: also make a plot using `streamplot`: https://matplotlib.org/api/pyplot_api.html#matplotlib.pyplot.streamplot"
   ]
  },
  {
   "cell_type": "code",
   "execution_count": null,
   "metadata": {
    "collapsed": true
   },
   "outputs": [],
   "source": [
    "ff = np.vectorize(f)\n",
    "gg = np.vectorize(g)\n",
    "\n",
    "side = np.linspace(0,4,10)\n",
    "XX,YY = np.meshgrid(side,side/2)\n",
    "UU = ff(XX,YY,0)\n",
    "VV = gg(XX,YY,0)\n",
    "\n",
    "plt.quiver(\n",
    "    # YOUR CODE HERE\n",
    "    scale=20)\n",
    "plt.plot(\n",
    "    # YOUR CODE HERE; overlay the plot from Problem 2.A\n",
    ")\n",
    "plt.xlabel('Caterpie')\n",
    "plt.ylabel('Pidgeotto')\n",
    "plt.show()"
   ]
  },
  {
   "cell_type": "markdown",
   "metadata": {},
   "source": [
    "## Problem 3: External effects\n",
    "\n",
    "The $f(x,y,t)$ and $g(x,y,t)$ used for problems 1 and 2 had no explicit time dependence. The Caterpie and Pidgeotto population dynamics were completely determined by the current populations. It is not hard to imagine, however, that there may be external time-dependent effects. Perhaps Pigeottos hunt more effectively at night, or perhaps Caterpies have a daily cycle of being outside where they can be hunted by Pigeottos.\n",
    "\n",
    "We'll model some time dependence by tweaking the $f$ and $g$ expressions:\n",
    "\n",
    "$\\displaystyle \\frac{dx}{dt} = \\alpha x - \\beta \\left( 1 - A_\\beta \\sin(t) \\right) x y + x \\sin(t/4)$  \n",
    "\n",
    "$\\displaystyle \\frac{dy}{dt} = \\delta \\left( 1 - A_\\delta \\sin(t) \\right) x y - \\gamma y + y \\sin(t/4)$  \n",
    "\n",
    "Use $A_\\beta = A_\\delta = 0.7$.\n",
    "\n",
    "Code these into functions `f_new` and `g_new`"
   ]
  },
  {
   "cell_type": "code",
   "execution_count": null,
   "metadata": {
    "collapsed": true
   },
   "outputs": [],
   "source": [
    "from math import sin as sin\n",
    "from math import cos as cos\n",
    "\n",
    "def f_new(x,y,t):\n",
    "    '''\n",
    "    This is the rate of change of Caterpie as a function \n",
    "    of the current number of Caterpie (x), the current number\n",
    "    of Pigeotto (y), and the current time (t).\n",
    "    '''\n",
    "    return 0 # FIX THIS\n",
    "\n",
    "def g_new(x,y,t):\n",
    "    '''\n",
    "    This is the rate of change of Pigeotto as a function \n",
    "    of the current number of Caterpie (x), the current number\n",
    "    of Pigeotto (y), and the current time (t).\n",
    "    '''\n",
    "    return 0 # FIX THIS\n",
    "\n",
    "## Copy and paste your code from Problem 1.E here. \n",
    "## Make sure to change f and g to f_new and g_new"
   ]
  },
  {
   "cell_type": "code",
   "execution_count": null,
   "metadata": {
    "collapsed": true
   },
   "outputs": [],
   "source": [
    "## Copy and paste your code from Problem 2.A here.\n",
    "## Make sure to change f and g to f_new and g_new"
   ]
  },
  {
   "cell_type": "markdown",
   "metadata": {},
   "source": [
    "## Problem 4: Copy-Pasta 1.C, one more time\n",
    "\n",
    "Copy and paste your previous solution to Problem 1.C. Modify the code so that instead of Euler's Method, you are filling `xlist` and `ylist` using the **Runge-Kutta** algorithm. Show that you get the same answer. \n",
    "\n",
    "**Optional**: I encourage you to play with the Euler Method in 1.C and the Runge-Kutta method here to see what happens as you increase the number of steps. (Coarse graining a little may help resolve the difference between the two methods.)"
   ]
  },
  {
   "cell_type": "code",
   "execution_count": null,
   "metadata": {
    "collapsed": true
   },
   "outputs": [],
   "source": [
    "## YOUR CODE HERE"
   ]
  },
  {
   "cell_type": "markdown",
   "metadata": {},
   "source": [
    "## Extra Credit: Animate\n",
    "\n",
    "Follow the tutorial linked in the [extra credit problem of Homework 2](https://github.com/Physics177-2017/Homework02/blob/master/Homework_02.ipynb) to animate some of these plots. It may be useful to code the process in Problem 1.C as a function that takes in various parameters and outputs Numpy lists for $x$ and $y$.\n",
    "\n",
    "Things you may want to animate:\n",
    "* Animate the plot in Problem 1.C so the plot is \"moving\" with its time evolution (similar to giving a time-dependent phase shift to a sine wave)\n",
    "* Plot a dot on the Caterpie--Pigeotto population plane and animate its movement with the evolution of time (this is an animated version of Problem 2.A)\n",
    "\n",
    "You may (or may not) find the following references helpful:\n",
    "http://louistiao.me/posts/notebooks/embedding-matplotlib-animations-in-jupyter-notebooks/\n",
    "http://stackoverflow.com/questions/11611705/animated-graphs-in-ipython-notebook\n"
   ]
  },
  {
   "cell_type": "code",
   "execution_count": null,
   "metadata": {
    "collapsed": true
   },
   "outputs": [],
   "source": [
    "## YOUR CODE HERE"
   ]
  }
 ],
 "metadata": {
  "kernelspec": {
   "display_name": "Python 3",
   "language": "python",
   "name": "python3"
  },
  "language_info": {
   "codemirror_mode": {
    "name": "ipython",
    "version": 3
   },
   "file_extension": ".py",
   "mimetype": "text/x-python",
   "name": "python",
   "nbconvert_exporter": "python",
   "pygments_lexer": "ipython3",
   "version": "3.4.3"
  }
 },
 "nbformat": 4,
 "nbformat_minor": 2
}
